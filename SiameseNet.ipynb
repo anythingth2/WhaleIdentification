{
 "cells": [
  {
   "cell_type": "code",
   "execution_count": 1,
   "metadata": {},
   "outputs": [],
   "source": [
    "import os\n",
    "# os.environ[\"CUDA_DEVICE_ORDER\"] = \"PCI_BUS_ID\"\n",
    "# os.environ[\"CUDA_VISIBLE_DEVICES\"] = \"1\"\n",
    "\n",
    "from pathlib import Path\n",
    "from tqdm import tqdm_notebook, tqdm, trange\n",
    "import numpy as np\n",
    "import pandas as pd\n",
    "import itertools\n",
    "import cv2\n",
    "import matplotlib.pyplot as plt\n",
    "from tensorflow.keras.models import Sequential, Model\n",
    "from tensorflow.keras.layers import Dense, Activation, BatchNormalization, GlobalAveragePooling2D\n",
    "from tensorflow.keras.layers import Dropout, Lambda, Concatenate, Input\n",
    "from tensorflow.keras.optimizers import Adam\n",
    "from tensorflow.keras.applications import DenseNet121\n",
    "from tensorflow.keras.callbacks import ModelCheckpoint, TensorBoard\n",
    "from tensorflow.keras.utils import to_categorical\n",
    "import tensorflow.keras.backend as K\n",
    "from DataPrep import preprocess_image, augment_pipeline\n",
    "\n",
    "from sklearn.preprocessing import LabelEncoder\n",
    "from sklearn.decomposition import PCA"
   ]
  },
  {
   "cell_type": "code",
   "execution_count": 2,
   "metadata": {},
   "outputs": [
    {
     "data": {
      "text/html": [
       "<div>\n",
       "<style scoped>\n",
       "    .dataframe tbody tr th:only-of-type {\n",
       "        vertical-align: middle;\n",
       "    }\n",
       "\n",
       "    .dataframe tbody tr th {\n",
       "        vertical-align: top;\n",
       "    }\n",
       "\n",
       "    .dataframe thead th {\n",
       "        text-align: right;\n",
       "    }\n",
       "</style>\n",
       "<table border=\"1\" class=\"dataframe\">\n",
       "  <thead>\n",
       "    <tr style=\"text-align: right;\">\n",
       "      <th></th>\n",
       "      <th>Image</th>\n",
       "      <th>Id</th>\n",
       "    </tr>\n",
       "  </thead>\n",
       "  <tbody>\n",
       "    <tr>\n",
       "      <th>0</th>\n",
       "      <td>00022e1a.jpg</td>\n",
       "      <td>w_e15442c</td>\n",
       "    </tr>\n",
       "    <tr>\n",
       "      <th>1</th>\n",
       "      <td>000466c4.jpg</td>\n",
       "      <td>w_1287fbc</td>\n",
       "    </tr>\n",
       "    <tr>\n",
       "      <th>2</th>\n",
       "      <td>00087b01.jpg</td>\n",
       "      <td>w_da2efe0</td>\n",
       "    </tr>\n",
       "    <tr>\n",
       "      <th>3</th>\n",
       "      <td>001296d5.jpg</td>\n",
       "      <td>w_19e5482</td>\n",
       "    </tr>\n",
       "    <tr>\n",
       "      <th>4</th>\n",
       "      <td>0014cfdf.jpg</td>\n",
       "      <td>w_f22f3e3</td>\n",
       "    </tr>\n",
       "    <tr>\n",
       "      <th>...</th>\n",
       "      <td>...</td>\n",
       "      <td>...</td>\n",
       "    </tr>\n",
       "    <tr>\n",
       "      <th>9845</th>\n",
       "      <td>ffe5c306.jpg</td>\n",
       "      <td>w_2ceab05</td>\n",
       "    </tr>\n",
       "    <tr>\n",
       "      <th>9846</th>\n",
       "      <td>ffeaa7a4.jpg</td>\n",
       "      <td>w_b067417</td>\n",
       "    </tr>\n",
       "    <tr>\n",
       "      <th>9847</th>\n",
       "      <td>ffecec63.jpg</td>\n",
       "      <td>w_8b56cb1</td>\n",
       "    </tr>\n",
       "    <tr>\n",
       "      <th>9848</th>\n",
       "      <td>fff04277.jpg</td>\n",
       "      <td>w_2dcbf82</td>\n",
       "    </tr>\n",
       "    <tr>\n",
       "      <th>9849</th>\n",
       "      <td>fffd4260.jpg</td>\n",
       "      <td>w_b9bfd4e</td>\n",
       "    </tr>\n",
       "  </tbody>\n",
       "</table>\n",
       "<p>9850 rows × 2 columns</p>\n",
       "</div>"
      ],
      "text/plain": [
       "             Image         Id\n",
       "0     00022e1a.jpg  w_e15442c\n",
       "1     000466c4.jpg  w_1287fbc\n",
       "2     00087b01.jpg  w_da2efe0\n",
       "3     001296d5.jpg  w_19e5482\n",
       "4     0014cfdf.jpg  w_f22f3e3\n",
       "...            ...        ...\n",
       "9845  ffe5c306.jpg  w_2ceab05\n",
       "9846  ffeaa7a4.jpg  w_b067417\n",
       "9847  ffecec63.jpg  w_8b56cb1\n",
       "9848  fff04277.jpg  w_2dcbf82\n",
       "9849  fffd4260.jpg  w_b9bfd4e\n",
       "\n",
       "[9850 rows x 2 columns]"
      ]
     },
     "execution_count": 2,
     "metadata": {},
     "output_type": "execute_result"
    }
   ],
   "source": [
    "df = pd.read_csv('datasets/train.csv')\n",
    "df"
   ]
  },
  {
   "cell_type": "code",
   "execution_count": 3,
   "metadata": {},
   "outputs": [
    {
     "data": {
      "text/plain": [
       "w_1287fbc    34\n",
       "w_98baff9    27\n",
       "w_7554f44    26\n",
       "w_1eafe46    23\n",
       "w_693c9ee    22\n",
       "w_fd1cb9d    22\n",
       "w_ab4cae2    22\n",
       "w_73d5489    21\n",
       "Name: Id, dtype: int64"
      ]
     },
     "execution_count": 3,
     "metadata": {},
     "output_type": "execute_result"
    }
   ],
   "source": [
    "top_counts = df['Id'].value_counts()[:9]\n",
    "top_counts.drop(index='new_whale', inplace=True)\n",
    "top_counts"
   ]
  },
  {
   "cell_type": "code",
   "execution_count": 4,
   "metadata": {},
   "outputs": [
    {
     "data": {
      "text/html": [
       "<div>\n",
       "<style scoped>\n",
       "    .dataframe tbody tr th:only-of-type {\n",
       "        vertical-align: middle;\n",
       "    }\n",
       "\n",
       "    .dataframe tbody tr th {\n",
       "        vertical-align: top;\n",
       "    }\n",
       "\n",
       "    .dataframe thead th {\n",
       "        text-align: right;\n",
       "    }\n",
       "</style>\n",
       "<table border=\"1\" class=\"dataframe\">\n",
       "  <thead>\n",
       "    <tr style=\"text-align: right;\">\n",
       "      <th></th>\n",
       "      <th>Image</th>\n",
       "      <th>Id</th>\n",
       "    </tr>\n",
       "  </thead>\n",
       "  <tbody>\n",
       "    <tr>\n",
       "      <th>1</th>\n",
       "      <td>000466c4.jpg</td>\n",
       "      <td>w_1287fbc</td>\n",
       "    </tr>\n",
       "    <tr>\n",
       "      <th>13</th>\n",
       "      <td>00467ae9.jpg</td>\n",
       "      <td>w_fd1cb9d</td>\n",
       "    </tr>\n",
       "    <tr>\n",
       "      <th>104</th>\n",
       "      <td>02916b71.jpg</td>\n",
       "      <td>w_73d5489</td>\n",
       "    </tr>\n",
       "    <tr>\n",
       "      <th>183</th>\n",
       "      <td>0496e682.jpg</td>\n",
       "      <td>w_fd1cb9d</td>\n",
       "    </tr>\n",
       "    <tr>\n",
       "      <th>253</th>\n",
       "      <td>0603a403.jpg</td>\n",
       "      <td>w_1287fbc</td>\n",
       "    </tr>\n",
       "    <tr>\n",
       "      <th>...</th>\n",
       "      <td>...</td>\n",
       "      <td>...</td>\n",
       "    </tr>\n",
       "    <tr>\n",
       "      <th>9379</th>\n",
       "      <td>f4063698.jpg</td>\n",
       "      <td>w_7554f44</td>\n",
       "    </tr>\n",
       "    <tr>\n",
       "      <th>9446</th>\n",
       "      <td>f5ac7c84.jpg</td>\n",
       "      <td>w_1287fbc</td>\n",
       "    </tr>\n",
       "    <tr>\n",
       "      <th>9464</th>\n",
       "      <td>f61f4cb3.jpg</td>\n",
       "      <td>w_ab4cae2</td>\n",
       "    </tr>\n",
       "    <tr>\n",
       "      <th>9518</th>\n",
       "      <td>f767cdfa.jpg</td>\n",
       "      <td>w_1eafe46</td>\n",
       "    </tr>\n",
       "    <tr>\n",
       "      <th>9687</th>\n",
       "      <td>fbb679be.jpg</td>\n",
       "      <td>w_693c9ee</td>\n",
       "    </tr>\n",
       "  </tbody>\n",
       "</table>\n",
       "<p>197 rows × 2 columns</p>\n",
       "</div>"
      ],
      "text/plain": [
       "             Image         Id\n",
       "1     000466c4.jpg  w_1287fbc\n",
       "13    00467ae9.jpg  w_fd1cb9d\n",
       "104   02916b71.jpg  w_73d5489\n",
       "183   0496e682.jpg  w_fd1cb9d\n",
       "253   0603a403.jpg  w_1287fbc\n",
       "...            ...        ...\n",
       "9379  f4063698.jpg  w_7554f44\n",
       "9446  f5ac7c84.jpg  w_1287fbc\n",
       "9464  f61f4cb3.jpg  w_ab4cae2\n",
       "9518  f767cdfa.jpg  w_1eafe46\n",
       "9687  fbb679be.jpg  w_693c9ee\n",
       "\n",
       "[197 rows x 2 columns]"
      ]
     },
     "execution_count": 4,
     "metadata": {},
     "output_type": "execute_result"
    }
   ],
   "source": [
    "top_df = df[df['Id'].isin(top_counts.index)]\n",
    "top_df"
   ]
  },
  {
   "cell_type": "code",
   "execution_count": 15,
   "metadata": {},
   "outputs": [],
   "source": [
    "def create_feature_extractor():\n",
    "    backbone = DenseNet121(include_top=False,\n",
    "                           weights='imagenet',\n",
    "                           input_shape=(478, 968, 3)\n",
    "                          )\n",
    "    model = Sequential([\n",
    "        backbone,\n",
    "        GlobalAveragePooling2D(),\n",
    "        Activation('sigmoid')\n",
    "    ])\n",
    "    return model\n",
    "feature_extractor = create_feature_extractor()"
   ]
  },
  {
   "cell_type": "code",
   "execution_count": null,
   "metadata": {},
   "outputs": [],
   "source": [
    "df = top_df.copy()\n",
    "input_dir = Path('datasets/train/train')\n",
    "imgs = [cv2.imread(str(input_dir / img_name)) for img_name in df['Image']]\n",
    "imgs = [preprocess_image(img) for img in imgs]\n",
    "imgs = np.array(imgs)"
   ]
  },
  {
   "cell_type": "code",
   "execution_count": 17,
   "metadata": {},
   "outputs": [
    {
     "name": "stdout",
     "output_type": "stream",
     "text": [
      "7/7 [==============================] - 2s 249ms/step\n"
     ]
    }
   ],
   "source": [
    "features = feature_extractor.predict(imgs, verbose=1)"
   ]
  },
  {
   "cell_type": "code",
   "execution_count": 38,
   "metadata": {},
   "outputs": [
    {
     "data": {
      "text/plain": [
       "array([0.3537001 , 0.13399796], dtype=float32)"
      ]
     },
     "execution_count": 38,
     "metadata": {},
     "output_type": "execute_result"
    }
   ],
   "source": [
    "pca = PCA(n_components=2)\n",
    "pca.fit(features)\n",
    "pca.explained_variance_"
   ]
  },
  {
   "cell_type": "code",
   "execution_count": 50,
   "metadata": {},
   "outputs": [
    {
     "data": {
      "text/html": [
       "<div>\n",
       "<style scoped>\n",
       "    .dataframe tbody tr th:only-of-type {\n",
       "        vertical-align: middle;\n",
       "    }\n",
       "\n",
       "    .dataframe tbody tr th {\n",
       "        vertical-align: top;\n",
       "    }\n",
       "\n",
       "    .dataframe thead th {\n",
       "        text-align: right;\n",
       "    }\n",
       "</style>\n",
       "<table border=\"1\" class=\"dataframe\">\n",
       "  <thead>\n",
       "    <tr style=\"text-align: right;\">\n",
       "      <th></th>\n",
       "      <th>Image</th>\n",
       "      <th>Id</th>\n",
       "      <th>feature</th>\n",
       "    </tr>\n",
       "  </thead>\n",
       "  <tbody>\n",
       "    <tr>\n",
       "      <th>1</th>\n",
       "      <td>000466c4.jpg</td>\n",
       "      <td>w_1287fbc</td>\n",
       "      <td>[-0.2887354, 0.791273]</td>\n",
       "    </tr>\n",
       "    <tr>\n",
       "      <th>13</th>\n",
       "      <td>00467ae9.jpg</td>\n",
       "      <td>w_fd1cb9d</td>\n",
       "      <td>[-0.17396402, -0.17378594]</td>\n",
       "    </tr>\n",
       "    <tr>\n",
       "      <th>104</th>\n",
       "      <td>02916b71.jpg</td>\n",
       "      <td>w_73d5489</td>\n",
       "      <td>[-0.4837259, -0.25984627]</td>\n",
       "    </tr>\n",
       "    <tr>\n",
       "      <th>183</th>\n",
       "      <td>0496e682.jpg</td>\n",
       "      <td>w_fd1cb9d</td>\n",
       "      <td>[0.64624405, -0.12780045]</td>\n",
       "    </tr>\n",
       "    <tr>\n",
       "      <th>253</th>\n",
       "      <td>0603a403.jpg</td>\n",
       "      <td>w_1287fbc</td>\n",
       "      <td>[-0.22597128, -0.11888787]</td>\n",
       "    </tr>\n",
       "    <tr>\n",
       "      <th>...</th>\n",
       "      <td>...</td>\n",
       "      <td>...</td>\n",
       "      <td>...</td>\n",
       "    </tr>\n",
       "    <tr>\n",
       "      <th>9379</th>\n",
       "      <td>f4063698.jpg</td>\n",
       "      <td>w_7554f44</td>\n",
       "      <td>[-0.58546984, 0.53707325]</td>\n",
       "    </tr>\n",
       "    <tr>\n",
       "      <th>9446</th>\n",
       "      <td>f5ac7c84.jpg</td>\n",
       "      <td>w_1287fbc</td>\n",
       "      <td>[1.1454511, 0.39503962]</td>\n",
       "    </tr>\n",
       "    <tr>\n",
       "      <th>9464</th>\n",
       "      <td>f61f4cb3.jpg</td>\n",
       "      <td>w_ab4cae2</td>\n",
       "      <td>[-0.7552139, -0.23334897]</td>\n",
       "    </tr>\n",
       "    <tr>\n",
       "      <th>9518</th>\n",
       "      <td>f767cdfa.jpg</td>\n",
       "      <td>w_1eafe46</td>\n",
       "      <td>[-0.23729677, -0.28313047]</td>\n",
       "    </tr>\n",
       "    <tr>\n",
       "      <th>9687</th>\n",
       "      <td>fbb679be.jpg</td>\n",
       "      <td>w_693c9ee</td>\n",
       "      <td>[-0.1811455, 0.22384211]</td>\n",
       "    </tr>\n",
       "  </tbody>\n",
       "</table>\n",
       "<p>197 rows × 3 columns</p>\n",
       "</div>"
      ],
      "text/plain": [
       "             Image         Id                     feature\n",
       "1     000466c4.jpg  w_1287fbc      [-0.2887354, 0.791273]\n",
       "13    00467ae9.jpg  w_fd1cb9d  [-0.17396402, -0.17378594]\n",
       "104   02916b71.jpg  w_73d5489   [-0.4837259, -0.25984627]\n",
       "183   0496e682.jpg  w_fd1cb9d   [0.64624405, -0.12780045]\n",
       "253   0603a403.jpg  w_1287fbc  [-0.22597128, -0.11888787]\n",
       "...            ...        ...                         ...\n",
       "9379  f4063698.jpg  w_7554f44   [-0.58546984, 0.53707325]\n",
       "9446  f5ac7c84.jpg  w_1287fbc     [1.1454511, 0.39503962]\n",
       "9464  f61f4cb3.jpg  w_ab4cae2   [-0.7552139, -0.23334897]\n",
       "9518  f767cdfa.jpg  w_1eafe46  [-0.23729677, -0.28313047]\n",
       "9687  fbb679be.jpg  w_693c9ee    [-0.1811455, 0.22384211]\n",
       "\n",
       "[197 rows x 3 columns]"
      ]
     },
     "execution_count": 50,
     "metadata": {},
     "output_type": "execute_result"
    }
   ],
   "source": [
    "df['feature'] = list(pca.transform(features))\n",
    "df"
   ]
  },
  {
   "cell_type": "code",
   "execution_count": 51,
   "metadata": {},
   "outputs": [],
   "source": [
    "features = np.concatenate(df['feature'].to_numpy()).reshape((-1, 2))"
   ]
  },
  {
   "cell_type": "code",
   "execution_count": 77,
   "metadata": {},
   "outputs": [
    {
     "data": {
      "image/png": "[encoded data removed]",
      "text/plain": [
       "<Figure size 432x288 with 1 Axes>"
      ]
     },
     "metadata": {
      "needs_background": "light"
     },
     "output_type": "display_data"
    }
   ],
   "source": [
    "id_encoder = LabelEncoder()\n",
    "_label = id_encoder.fit_transform(df['Id'])\n",
    "# del label\n",
    "\n",
    "plt.scatter(features[:, 0], features[:, 1], c=_label)\n",
    "plt.legend(id_encoder.classes_.tolist())\n",
    "plt.show()"
   ]
  },
  {
   "cell_type": "code",
   "execution_count": 3,
   "metadata": {},
   "outputs": [],
   "source": [
    "\n",
    "class DataGenerator:\n",
    "    \n",
    "    def __init__(self, df, input_dir):\n",
    "        self.input_dir = input_dir\n",
    "        self.total_ids = set(df['Id'].drop_duplicates())\n",
    "        self.df = df.set_index('Id')\n",
    "    \n",
    "    def create_generator(self, batch_size, positive_ratio=0.5, augment=False):\n",
    "        while True:\n",
    "            batch_df = self.df.sample(batch_size)\n",
    "\n",
    "            lefts = []\n",
    "            rights = []\n",
    "            ys = []\n",
    "            for Id1, whale1 in batch_df.iterrows():\n",
    "                if np.random.rand() < positive_ratio:\n",
    "                    candidate_df = self.df.loc[Id1]\n",
    "                    y = 1\n",
    "                else:\n",
    "                    candidate_df = self.df.loc[self.total_ids - {Id1}]\n",
    "                    y = 0\n",
    "\n",
    "                if len(candidate_df) > 1:\n",
    "                    whale2 = candidate_df.sample(1).iloc[0]\n",
    "                else:\n",
    "                    whale2 = candidate_df\n",
    "\n",
    "                img1 = cv2.imread(str(self.input_dir / whale1['Image']))\n",
    "                img2 = cv2.imread(str(self.input_dir / whale2['Image']))\n",
    "                \n",
    "                if augment:\n",
    "                    img1, img2 = augment_pipeline.augment(images=[img1, img2])\n",
    "                    \n",
    "                img1 = preprocess_image(img1)\n",
    "                img2 = preprocess_image(img2)\n",
    "\n",
    "                lefts.append(img1)\n",
    "                rights.append(img2)\n",
    "                ys.append(y)\n",
    "\n",
    "            lefts = np.array(lefts)\n",
    "            rights = np.array(rights)\n",
    "            ys = np.array(ys)\n",
    "            \n",
    "            yield [lefts, rights], ys\n",
    "            \n"
   ]
  },
  {
   "cell_type": "code",
   "execution_count": 16,
   "metadata": {},
   "outputs": [],
   "source": [
    "input_shape = (478, 968, 3)\n",
    "feature_extractor.trainable = False\n",
    "\n",
    "left_input = Input(input_shape)\n",
    "right_input = Input(input_shape)\n",
    "left_features = feature_extractor(left_input)\n",
    "right_features = feature_extractor(right_input)\n",
    "\n",
    "distance_layer = Lambda(lambda f: K.abs(f[0] - f[1]))\n",
    "distance = distance_layer([left_features, right_features])\n",
    "\n",
    "similarity = Dense(1, activation='sigmoid')(distance)\n",
    "\n",
    "model = Model(inputs=[left_input, right_input], outputs=similarity)"
   ]
  },
  {
   "cell_type": "code",
   "execution_count": 17,
   "metadata": {},
   "outputs": [],
   "source": [
    "optimizer = Adam(lr=1e-3)\n",
    "model.compile(optimizer=optimizer, loss='binary_crossentropy', metrics=['acc'])"
   ]
  },
  {
   "cell_type": "code",
   "execution_count": 18,
   "metadata": {},
   "outputs": [
    {
     "name": "stdout",
     "output_type": "stream",
     "text": [
      "Model: \"model_2\"\n",
      "__________________________________________________________________________________________________\n",
      "Layer (type)                    Output Shape         Param #     Connected to                     \n",
      "==================================================================================================\n",
      "input_7 (InputLayer)            [(None, 478, 968, 3) 0                                            \n",
      "__________________________________________________________________________________________________\n",
      "input_8 (InputLayer)            [(None, 478, 968, 3) 0                                            \n",
      "__________________________________________________________________________________________________\n",
      "sequential_1 (Sequential)       (None, 1024)         7037504     input_7[0][0]                    \n",
      "                                                                 input_8[0][0]                    \n",
      "__________________________________________________________________________________________________\n",
      "lambda_2 (Lambda)               (None, 1024)         0           sequential_1[1][0]               \n",
      "                                                                 sequential_1[2][0]               \n",
      "__________________________________________________________________________________________________\n",
      "dense_2 (Dense)                 (None, 1)            1025        lambda_2[0][0]                   \n",
      "==================================================================================================\n",
      "Total params: 7,038,529\n",
      "Trainable params: 1,025\n",
      "Non-trainable params: 7,037,504\n",
      "__________________________________________________________________________________________________\n"
     ]
    }
   ],
   "source": [
    "model.summary()"
   ]
  },
  {
   "cell_type": "code",
   "execution_count": null,
   "metadata": {},
   "outputs": [
    {
     "name": "stdout",
     "output_type": "stream",
     "text": [
      "Epoch 10/50\n",
      "235/307 [=====================>........] - ETA: 36s - loss: 0.4941 - acc: 0.7721"
     ]
    }
   ],
   "source": [
    "batch_size = 16\n",
    "df = pd.read_csv('datasets/train.csv')\n",
    "input_dir = Path('datasets/train/train')\n",
    "datagen = DataGenerator(df, input_dir)\n",
    "gen = datagen.create_generator(batch_size=batch_size, positive_ratio=0.5)\n",
    "\n",
    "model_dir = Path('benchmark/siamese-densenet')\n",
    "model_dir.mkdir(exist_ok=True)\n",
    "model.fit(gen,\n",
    "          initial_epoch=9,\n",
    "          epochs=50,\n",
    "          steps_per_epoch=len(df) // (2*batch_size),\n",
    "          callbacks=[\n",
    "              TensorBoard(str(model_dir)),\n",
    "              ModelCheckpoint(str(model_dir / 'freeze-ep-{epoch:02d}-acc{acc:.4f}.hdf5'),\n",
    "                        monitor='acc',\n",
    "                        verbose=1,\n",
    "                        save_best_only=True,\n",
    "                        mode='max')\n",
    "          ]\n",
    ")"
   ]
  },
  {
   "cell_type": "code",
   "execution_count": null,
   "metadata": {},
   "outputs": [],
   "source": []
  }
 ],
 "metadata": {
  "kernelspec": {
   "display_name": "Python 3",
   "language": "python",
   "name": "python3"
  },
  "language_info": {
   "codemirror_mode": {
    "name": "ipython",
    "version": 3
   },
   "file_extension": ".py",
   "mimetype": "text/x-python",
   "name": "python",
   "nbconvert_exporter": "python",
   "pygments_lexer": "ipython3",
   "version": "3.6.9"
  }
 },
 "nbformat": 4,
 "nbformat_minor": 2
}
