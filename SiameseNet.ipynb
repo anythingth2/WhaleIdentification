{
 "cells": [
  {
   "cell_type": "markdown",
   "metadata": {},
   "source": [
    "# Siamese Network\n",
    "\n"
   ]
  },
  {
   "cell_type": "code",
   "execution_count": 1,
   "metadata": {},
   "outputs": [],
   "source": [
    "import os\n",
    "# os.environ[\"CUDA_DEVICE_ORDER\"] = \"PCI_BUS_ID\"\n",
    "# os.environ[\"CUDA_VISIBLE_DEVICES\"] = \"1\"\n",
    "\n",
    "from pathlib import Path\n",
    "from tqdm import tqdm_notebook, tqdm, trange\n",
    "import numpy as np\n",
    "import pandas as pd\n",
    "import itertools\n",
    "import cv2\n",
    "import matplotlib.pyplot as plt\n",
    "from tensorflow.keras.models import Sequential, Model\n",
    "from tensorflow.keras.layers import Dense, Activation, BatchNormalization, GlobalAveragePooling2D\n",
    "from tensorflow.keras.layers import Dropout, Lambda, Concatenate, Input\n",
    "from tensorflow.keras.optimizers import Adam\n",
    "from tensorflow.keras.applications import DenseNet121\n",
    "from tensorflow.keras.callbacks import ModelCheckpoint, TensorBoard\n",
    "from tensorflow.keras.utils import to_categorical\n",
    "import tensorflow.keras.backend as K\n",
    "from DataPrep import preprocess_image, augment_pipeline\n",
    "\n",
    "from sklearn.preprocessing import LabelEncoder\n",
    "from sklearn.decomposition import PCA"
   ]
  },
  {
   "cell_type": "markdown",
   "metadata": {},
   "source": [
    "## EDA\n",
    "\n",
    "Explore the distribution of features that we will use to calculate similarity with Siamese Network\n"
   ]
  },
  {
   "cell_type": "code",
   "execution_count": 2,
   "metadata": {},
   "outputs": [
    {
     "data": {
      "text/html": [
       "<div>\n",
       "<style scoped>\n",
       "    .dataframe tbody tr th:only-of-type {\n",
       "        vertical-align: middle;\n",
       "    }\n",
       "\n",
       "    .dataframe tbody tr th {\n",
       "        vertical-align: top;\n",
       "    }\n",
       "\n",
       "    .dataframe thead th {\n",
       "        text-align: right;\n",
       "    }\n",
       "</style>\n",
       "<table border=\"1\" class=\"dataframe\">\n",
       "  <thead>\n",
       "    <tr style=\"text-align: right;\">\n",
       "      <th></th>\n",
       "      <th>Image</th>\n",
       "      <th>Id</th>\n",
       "    </tr>\n",
       "  </thead>\n",
       "  <tbody>\n",
       "    <tr>\n",
       "      <th>0</th>\n",
       "      <td>00022e1a.jpg</td>\n",
       "      <td>w_e15442c</td>\n",
       "    </tr>\n",
       "    <tr>\n",
       "      <th>1</th>\n",
       "      <td>000466c4.jpg</td>\n",
       "      <td>w_1287fbc</td>\n",
       "    </tr>\n",
       "    <tr>\n",
       "      <th>2</th>\n",
       "      <td>00087b01.jpg</td>\n",
       "      <td>w_da2efe0</td>\n",
       "    </tr>\n",
       "    <tr>\n",
       "      <th>3</th>\n",
       "      <td>001296d5.jpg</td>\n",
       "      <td>w_19e5482</td>\n",
       "    </tr>\n",
       "    <tr>\n",
       "      <th>4</th>\n",
       "      <td>0014cfdf.jpg</td>\n",
       "      <td>w_f22f3e3</td>\n",
       "    </tr>\n",
       "    <tr>\n",
       "      <th>...</th>\n",
       "      <td>...</td>\n",
       "      <td>...</td>\n",
       "    </tr>\n",
       "    <tr>\n",
       "      <th>9845</th>\n",
       "      <td>ffe5c306.jpg</td>\n",
       "      <td>w_2ceab05</td>\n",
       "    </tr>\n",
       "    <tr>\n",
       "      <th>9846</th>\n",
       "      <td>ffeaa7a4.jpg</td>\n",
       "      <td>w_b067417</td>\n",
       "    </tr>\n",
       "    <tr>\n",
       "      <th>9847</th>\n",
       "      <td>ffecec63.jpg</td>\n",
       "      <td>w_8b56cb1</td>\n",
       "    </tr>\n",
       "    <tr>\n",
       "      <th>9848</th>\n",
       "      <td>fff04277.jpg</td>\n",
       "      <td>w_2dcbf82</td>\n",
       "    </tr>\n",
       "    <tr>\n",
       "      <th>9849</th>\n",
       "      <td>fffd4260.jpg</td>\n",
       "      <td>w_b9bfd4e</td>\n",
       "    </tr>\n",
       "  </tbody>\n",
       "</table>\n",
       "<p>9850 rows × 2 columns</p>\n",
       "</div>"
      ],
      "text/plain": [
       "             Image         Id\n",
       "0     00022e1a.jpg  w_e15442c\n",
       "1     000466c4.jpg  w_1287fbc\n",
       "2     00087b01.jpg  w_da2efe0\n",
       "3     001296d5.jpg  w_19e5482\n",
       "4     0014cfdf.jpg  w_f22f3e3\n",
       "...            ...        ...\n",
       "9845  ffe5c306.jpg  w_2ceab05\n",
       "9846  ffeaa7a4.jpg  w_b067417\n",
       "9847  ffecec63.jpg  w_8b56cb1\n",
       "9848  fff04277.jpg  w_2dcbf82\n",
       "9849  fffd4260.jpg  w_b9bfd4e\n",
       "\n",
       "[9850 rows x 2 columns]"
      ]
     },
     "execution_count": 2,
     "metadata": {},
     "output_type": "execute_result"
    }
   ],
   "source": [
    "df = pd.read_csv('datasets/train.csv')\n",
    "df"
   ]
  },
  {
   "cell_type": "markdown",
   "metadata": {},
   "source": [
    "### Select only top 8 whales"
   ]
  },
  {
   "cell_type": "code",
   "execution_count": 3,
   "metadata": {},
   "outputs": [
    {
     "data": {
      "text/plain": [
       "w_1287fbc    34\n",
       "w_98baff9    27\n",
       "w_7554f44    26\n",
       "w_1eafe46    23\n",
       "w_ab4cae2    22\n",
       "w_fd1cb9d    22\n",
       "w_693c9ee    22\n",
       "w_987a36f    21\n",
       "Name: Id, dtype: int64"
      ]
     },
     "execution_count": 3,
     "metadata": {},
     "output_type": "execute_result"
    }
   ],
   "source": [
    "top_counts = df['Id'].value_counts()[:9]\n",
    "top_counts.drop(index='new_whale', inplace=True)\n",
    "top_counts"
   ]
  },
  {
   "cell_type": "code",
   "execution_count": 4,
   "metadata": {},
   "outputs": [
    {
     "data": {
      "text/html": [
       "<div>\n",
       "<style scoped>\n",
       "    .dataframe tbody tr th:only-of-type {\n",
       "        vertical-align: middle;\n",
       "    }\n",
       "\n",
       "    .dataframe tbody tr th {\n",
       "        vertical-align: top;\n",
       "    }\n",
       "\n",
       "    .dataframe thead th {\n",
       "        text-align: right;\n",
       "    }\n",
       "</style>\n",
       "<table border=\"1\" class=\"dataframe\">\n",
       "  <thead>\n",
       "    <tr style=\"text-align: right;\">\n",
       "      <th></th>\n",
       "      <th>Image</th>\n",
       "      <th>Id</th>\n",
       "    </tr>\n",
       "  </thead>\n",
       "  <tbody>\n",
       "    <tr>\n",
       "      <th>1</th>\n",
       "      <td>000466c4.jpg</td>\n",
       "      <td>w_1287fbc</td>\n",
       "    </tr>\n",
       "    <tr>\n",
       "      <th>13</th>\n",
       "      <td>00467ae9.jpg</td>\n",
       "      <td>w_fd1cb9d</td>\n",
       "    </tr>\n",
       "    <tr>\n",
       "      <th>183</th>\n",
       "      <td>0496e682.jpg</td>\n",
       "      <td>w_fd1cb9d</td>\n",
       "    </tr>\n",
       "    <tr>\n",
       "      <th>253</th>\n",
       "      <td>0603a403.jpg</td>\n",
       "      <td>w_1287fbc</td>\n",
       "    </tr>\n",
       "    <tr>\n",
       "      <th>257</th>\n",
       "      <td>0617f982.jpg</td>\n",
       "      <td>w_7554f44</td>\n",
       "    </tr>\n",
       "    <tr>\n",
       "      <th>...</th>\n",
       "      <td>...</td>\n",
       "      <td>...</td>\n",
       "    </tr>\n",
       "    <tr>\n",
       "      <th>9379</th>\n",
       "      <td>f4063698.jpg</td>\n",
       "      <td>w_7554f44</td>\n",
       "    </tr>\n",
       "    <tr>\n",
       "      <th>9446</th>\n",
       "      <td>f5ac7c84.jpg</td>\n",
       "      <td>w_1287fbc</td>\n",
       "    </tr>\n",
       "    <tr>\n",
       "      <th>9464</th>\n",
       "      <td>f61f4cb3.jpg</td>\n",
       "      <td>w_ab4cae2</td>\n",
       "    </tr>\n",
       "    <tr>\n",
       "      <th>9518</th>\n",
       "      <td>f767cdfa.jpg</td>\n",
       "      <td>w_1eafe46</td>\n",
       "    </tr>\n",
       "    <tr>\n",
       "      <th>9687</th>\n",
       "      <td>fbb679be.jpg</td>\n",
       "      <td>w_693c9ee</td>\n",
       "    </tr>\n",
       "  </tbody>\n",
       "</table>\n",
       "<p>197 rows × 2 columns</p>\n",
       "</div>"
      ],
      "text/plain": [
       "             Image         Id\n",
       "1     000466c4.jpg  w_1287fbc\n",
       "13    00467ae9.jpg  w_fd1cb9d\n",
       "183   0496e682.jpg  w_fd1cb9d\n",
       "253   0603a403.jpg  w_1287fbc\n",
       "257   0617f982.jpg  w_7554f44\n",
       "...            ...        ...\n",
       "9379  f4063698.jpg  w_7554f44\n",
       "9446  f5ac7c84.jpg  w_1287fbc\n",
       "9464  f61f4cb3.jpg  w_ab4cae2\n",
       "9518  f767cdfa.jpg  w_1eafe46\n",
       "9687  fbb679be.jpg  w_693c9ee\n",
       "\n",
       "[197 rows x 2 columns]"
      ]
     },
     "execution_count": 4,
     "metadata": {},
     "output_type": "execute_result"
    }
   ],
   "source": [
    "top_df = df[df['Id'].isin(top_counts.index)]\n",
    "top_df"
   ]
  },
  {
   "cell_type": "markdown",
   "metadata": {},
   "source": [
    "### Feature Extraction\n",
    "\n",
    "We use ImageNet-DenseNet121 as feature extractor.\n",
    "DenseNet121 produces 1024 dims feature. We can't use huge number of dimension data to visualize as scatter plot.\n",
    "Then we reduce number of dimension to 2 with PCA."
   ]
  },
  {
   "cell_type": "code",
   "execution_count": 8,
   "metadata": {},
   "outputs": [],
   "source": [
    "def create_feature_extractor():\n",
    "    backbone = DenseNet121(include_top=False,\n",
    "                           weights='imagenet',\n",
    "                           input_shape=(478, 968, 3)\n",
    "                          )\n",
    "    model = Sequential([\n",
    "        backbone,\n",
    "        GlobalAveragePooling2D(),\n",
    "        Activation('sigmoid')\n",
    "    ])\n",
    "    return model\n",
    "feature_extractor = create_feature_extractor()"
   ]
  },
  {
   "cell_type": "code",
   "execution_count": 9,
   "metadata": {},
   "outputs": [],
   "source": [
    "df = top_df.copy()\n",
    "input_dir = Path('datasets/train/train')\n",
    "imgs = [cv2.imread(str(input_dir / img_name)) for img_name in df['Image']]\n",
    "imgs = [preprocess_image(img) for img in imgs]\n",
    "imgs = np.array(imgs)"
   ]
  },
  {
   "cell_type": "code",
   "execution_count": 10,
   "metadata": {},
   "outputs": [
    {
     "name": "stdout",
     "output_type": "stream",
     "text": [
      "7/7 [==============================] - 2s 254ms/step\n"
     ]
    }
   ],
   "source": [
    "features = feature_extractor.predict(imgs, verbose=1)"
   ]
  },
  {
   "cell_type": "code",
   "execution_count": 11,
   "metadata": {},
   "outputs": [
    {
     "name": "stdout",
     "output_type": "stream",
     "text": [
      "Eigenvalue [0.373128 0.12637 ]\n"
     ]
    }
   ],
   "source": [
    "pca = PCA(n_components=2)\n",
    "pca.fit(features)\n",
    "print('Eigenvalue', pca.explained_variance_)"
   ]
  },
  {
   "cell_type": "code",
   "execution_count": 12,
   "metadata": {},
   "outputs": [
    {
     "data": {
      "text/html": [
       "<div>\n",
       "<style scoped>\n",
       "    .dataframe tbody tr th:only-of-type {\n",
       "        vertical-align: middle;\n",
       "    }\n",
       "\n",
       "    .dataframe tbody tr th {\n",
       "        vertical-align: top;\n",
       "    }\n",
       "\n",
       "    .dataframe thead th {\n",
       "        text-align: right;\n",
       "    }\n",
       "</style>\n",
       "<table border=\"1\" class=\"dataframe\">\n",
       "  <thead>\n",
       "    <tr style=\"text-align: right;\">\n",
       "      <th></th>\n",
       "      <th>Image</th>\n",
       "      <th>Id</th>\n",
       "      <th>feature</th>\n",
       "    </tr>\n",
       "  </thead>\n",
       "  <tbody>\n",
       "    <tr>\n",
       "      <th>1</th>\n",
       "      <td>000466c4.jpg</td>\n",
       "      <td>w_1287fbc</td>\n",
       "      <td>[-0.36179468, 0.71095705]</td>\n",
       "    </tr>\n",
       "    <tr>\n",
       "      <th>13</th>\n",
       "      <td>00467ae9.jpg</td>\n",
       "      <td>w_fd1cb9d</td>\n",
       "      <td>[-0.24768831, -0.2546858]</td>\n",
       "    </tr>\n",
       "    <tr>\n",
       "      <th>183</th>\n",
       "      <td>0496e682.jpg</td>\n",
       "      <td>w_fd1cb9d</td>\n",
       "      <td>[0.6061446, -0.13540277]</td>\n",
       "    </tr>\n",
       "    <tr>\n",
       "      <th>253</th>\n",
       "      <td>0603a403.jpg</td>\n",
       "      <td>w_1287fbc</td>\n",
       "      <td>[-0.28174284, -0.15205137]</td>\n",
       "    </tr>\n",
       "    <tr>\n",
       "      <th>257</th>\n",
       "      <td>0617f982.jpg</td>\n",
       "      <td>w_7554f44</td>\n",
       "      <td>[-0.5401064, 0.14370833]</td>\n",
       "    </tr>\n",
       "    <tr>\n",
       "      <th>...</th>\n",
       "      <td>...</td>\n",
       "      <td>...</td>\n",
       "      <td>...</td>\n",
       "    </tr>\n",
       "    <tr>\n",
       "      <th>9379</th>\n",
       "      <td>f4063698.jpg</td>\n",
       "      <td>w_7554f44</td>\n",
       "      <td>[-0.63355225, 0.50396895]</td>\n",
       "    </tr>\n",
       "    <tr>\n",
       "      <th>9446</th>\n",
       "      <td>f5ac7c84.jpg</td>\n",
       "      <td>w_1287fbc</td>\n",
       "      <td>[1.0977976, 0.37512797]</td>\n",
       "    </tr>\n",
       "    <tr>\n",
       "      <th>9464</th>\n",
       "      <td>f61f4cb3.jpg</td>\n",
       "      <td>w_ab4cae2</td>\n",
       "      <td>[-0.7986804, -0.2399579]</td>\n",
       "    </tr>\n",
       "    <tr>\n",
       "      <th>9518</th>\n",
       "      <td>f767cdfa.jpg</td>\n",
       "      <td>w_1eafe46</td>\n",
       "      <td>[-0.30703402, -0.41015247]</td>\n",
       "    </tr>\n",
       "    <tr>\n",
       "      <th>9687</th>\n",
       "      <td>fbb679be.jpg</td>\n",
       "      <td>w_693c9ee</td>\n",
       "      <td>[-0.22433929, 0.23885185]</td>\n",
       "    </tr>\n",
       "  </tbody>\n",
       "</table>\n",
       "<p>197 rows × 3 columns</p>\n",
       "</div>"
      ],
      "text/plain": [
       "             Image         Id                     feature\n",
       "1     000466c4.jpg  w_1287fbc   [-0.36179468, 0.71095705]\n",
       "13    00467ae9.jpg  w_fd1cb9d   [-0.24768831, -0.2546858]\n",
       "183   0496e682.jpg  w_fd1cb9d    [0.6061446, -0.13540277]\n",
       "253   0603a403.jpg  w_1287fbc  [-0.28174284, -0.15205137]\n",
       "257   0617f982.jpg  w_7554f44    [-0.5401064, 0.14370833]\n",
       "...            ...        ...                         ...\n",
       "9379  f4063698.jpg  w_7554f44   [-0.63355225, 0.50396895]\n",
       "9446  f5ac7c84.jpg  w_1287fbc     [1.0977976, 0.37512797]\n",
       "9464  f61f4cb3.jpg  w_ab4cae2    [-0.7986804, -0.2399579]\n",
       "9518  f767cdfa.jpg  w_1eafe46  [-0.30703402, -0.41015247]\n",
       "9687  fbb679be.jpg  w_693c9ee   [-0.22433929, 0.23885185]\n",
       "\n",
       "[197 rows x 3 columns]"
      ]
     },
     "execution_count": 12,
     "metadata": {},
     "output_type": "execute_result"
    }
   ],
   "source": [
    "df['feature'] = list(pca.transform(features))\n",
    "df"
   ]
  },
  {
   "cell_type": "code",
   "execution_count": 13,
   "metadata": {},
   "outputs": [],
   "source": [
    "features = np.concatenate(df['feature'].to_numpy()).reshape((-1, 2))"
   ]
  },
  {
   "cell_type": "code",
   "execution_count": 15,
   "metadata": {},
   "outputs": [
    {
     "data": {
      "image/png": "[encoded data removed]",
      "text/plain": [
       "<Figure size 432x288 with 1 Axes>"
      ]
     },
     "metadata": {
      "needs_background": "light"
     },
     "output_type": "display_data"
    }
   ],
   "source": [
    "id_encoder = LabelEncoder()\n",
    "_label = id_encoder.fit_transform(df['Id'])\n",
    "# del label\n",
    "\n",
    "plt.scatter(features[:, 0], features[:, 1], c=_label)\n",
    "plt.legend(id_encoder.classes_.tolist())\n",
    "plt.title('Distribution of features of top 8 whales')\n",
    "plt.show()"
   ]
  },
  {
   "cell_type": "markdown",
   "metadata": {},
   "source": [
    "The distribution of features that extracted from ImageNet-DenseNet121 look like very spread, have no cluster.\n",
    "We hope Siamese Network will help CNN to produce greater cluster."
   ]
  },
  {
   "cell_type": "markdown",
   "metadata": {},
   "source": [
    "## Data Preprocessing\n",
    "\n",
    "We generate pair images and boolean of similarity of this pair images ( \"1\" is same, \"0\" is not).\n",
    "\n",
    "But our dataset contains a lot of whale ID. Some ID has small amount of image. If we create pair image for trainning by random method, It will lead to unbalance and the most of boolean of similarity will be \"0\". Our model will bias to predict \"0\" (not similar).\n",
    "\n",
    "To prevent this problem, We implement data generator that can adjust ratio of \"1\" class (we call \"positive class\"). Default, set positive ratio at 0.5"
   ]
  },
  {
   "cell_type": "code",
   "execution_count": 3,
   "metadata": {},
   "outputs": [],
   "source": [
    "\n",
    "class DataGenerator:\n",
    "    \n",
    "    def __init__(self, df, input_dir):\n",
    "        self.input_dir = input_dir\n",
    "        self.total_ids = set(df['Id'].drop_duplicates())\n",
    "        self.df = df.set_index('Id')\n",
    "    \n",
    "    def create_generator(self, batch_size, positive_ratio=0.5, augment=False):\n",
    "        while True:\n",
    "            batch_df = self.df.sample(batch_size)\n",
    "\n",
    "            lefts = []\n",
    "            rights = []\n",
    "            ys = []\n",
    "            for Id1, whale1 in batch_df.iterrows():\n",
    "                if np.random.rand() < positive_ratio:\n",
    "                    candidate_df = self.df.loc[Id1]\n",
    "                    y = 1\n",
    "                else:\n",
    "                    candidate_df = self.df.loc[self.total_ids - {Id1}]\n",
    "                    y = 0\n",
    "\n",
    "                if len(candidate_df) > 1:\n",
    "                    whale2 = candidate_df.sample(1).iloc[0]\n",
    "                else:\n",
    "                    whale2 = candidate_df\n",
    "\n",
    "                img1 = cv2.imread(str(self.input_dir / whale1['Image']))\n",
    "                img2 = cv2.imread(str(self.input_dir / whale2['Image']))\n",
    "                \n",
    "                if augment:\n",
    "                    img1, img2 = augment_pipeline.augment(images=[img1, img2])\n",
    "                    \n",
    "                img1 = preprocess_image(img1)\n",
    "                img2 = preprocess_image(img2)\n",
    "\n",
    "                lefts.append(img1)\n",
    "                rights.append(img2)\n",
    "                ys.append(y)\n",
    "\n",
    "            lefts = np.array(lefts)\n",
    "            rights = np.array(rights)\n",
    "            ys = np.array(ys)\n",
    "            \n",
    "            yield [lefts, rights], ys"
   ]
  },
  {
   "cell_type": "markdown",
   "metadata": {},
   "source": [
    "## Build Siamese Network\n",
    "\n",
    "My time is running out T_T\n",
    "I can only train this model with freeze CNN."
   ]
  },
  {
   "cell_type": "code",
   "execution_count": 16,
   "metadata": {},
   "outputs": [],
   "source": [
    "input_shape = (478, 968, 3)\n",
    "\n",
    "\n",
    "feature_extractor = create_feature_extractor()\n",
    "feature_extractor.trainable = False\n",
    "\n",
    "left_input = Input(input_shape)\n",
    "right_input = Input(input_shape)\n",
    "left_features = feature_extractor(left_input)\n",
    "right_features = feature_extractor(right_input)\n",
    "\n",
    "distance_layer = Lambda(lambda f: K.abs(f[0] - f[1]))\n",
    "distance = distance_layer([left_features, right_features])\n",
    "\n",
    "similarity = Dense(1, activation='sigmoid')(distance)\n",
    "\n",
    "model = Model(inputs=[left_input, right_input], outputs=similarity)"
   ]
  },
  {
   "cell_type": "code",
   "execution_count": 17,
   "metadata": {},
   "outputs": [],
   "source": [
    "optimizer = Adam(lr=1e-3)\n",
    "model.compile(optimizer=optimizer, loss='binary_crossentropy', metrics=['acc'])"
   ]
  },
  {
   "cell_type": "code",
   "execution_count": 18,
   "metadata": {},
   "outputs": [
    {
     "name": "stdout",
     "output_type": "stream",
     "text": [
      "Model: \"model_2\"\n",
      "__________________________________________________________________________________________________\n",
      "Layer (type)                    Output Shape         Param #     Connected to                     \n",
      "==================================================================================================\n",
      "input_7 (InputLayer)            [(None, 478, 968, 3) 0                                            \n",
      "__________________________________________________________________________________________________\n",
      "input_8 (InputLayer)            [(None, 478, 968, 3) 0                                            \n",
      "__________________________________________________________________________________________________\n",
      "sequential_1 (Sequential)       (None, 1024)         7037504     input_7[0][0]                    \n",
      "                                                                 input_8[0][0]                    \n",
      "__________________________________________________________________________________________________\n",
      "lambda_2 (Lambda)               (None, 1024)         0           sequential_1[1][0]               \n",
      "                                                                 sequential_1[2][0]               \n",
      "__________________________________________________________________________________________________\n",
      "dense_2 (Dense)                 (None, 1)            1025        lambda_2[0][0]                   \n",
      "==================================================================================================\n",
      "Total params: 7,038,529\n",
      "Trainable params: 1,025\n",
      "Non-trainable params: 7,037,504\n",
      "__________________________________________________________________________________________________\n"
     ]
    }
   ],
   "source": [
    "model.summary()"
   ]
  },
  {
   "cell_type": "code",
   "execution_count": 20,
   "metadata": {
    "scrolled": false
   },
   "outputs": [
    {
     "name": "stdout",
     "output_type": "stream",
     "text": [
      "Epoch 10/50\n",
      "307/307 [==============================] - ETA: 0s - loss: 0.4934 - acc: 0.7773\n",
      "Epoch 00010: acc improved from -inf to 0.77728, saving model to benchmark/siamese-densenet/freeze-ep-10-acc0.7773.hdf5\n",
      "307/307 [==============================] - 154s 502ms/step - loss: 0.4934 - acc: 0.7773\n",
      "Epoch 11/50\n",
      "307/307 [==============================] - ETA: 0s - loss: 0.4839 - acc: 0.7775\n",
      "Epoch 00011: acc improved from 0.77728 to 0.77748, saving model to benchmark/siamese-densenet/freeze-ep-11-acc0.7775.hdf5\n",
      "307/307 [==============================] - 154s 501ms/step - loss: 0.4839 - acc: 0.7775\n",
      "Epoch 12/50\n",
      "307/307 [==============================] - ETA: 0s - loss: 0.4683 - acc: 0.7875\n",
      "Epoch 00012: acc improved from 0.77748 to 0.78746, saving model to benchmark/siamese-densenet/freeze-ep-12-acc0.7875.hdf5\n",
      "307/307 [==============================] - 154s 501ms/step - loss: 0.4683 - acc: 0.7875\n",
      "Epoch 13/50\n",
      "307/307 [==============================] - ETA: 0s - loss: 0.4687 - acc: 0.7944\n",
      "Epoch 00013: acc improved from 0.78746 to 0.79438, saving model to benchmark/siamese-densenet/freeze-ep-13-acc0.7944.hdf5\n",
      "307/307 [==============================] - 154s 502ms/step - loss: 0.4687 - acc: 0.7944\n",
      "Epoch 14/50\n",
      "307/307 [==============================] - ETA: 0s - loss: 0.4633 - acc: 0.7972\n",
      "Epoch 00014: acc improved from 0.79438 to 0.79723, saving model to benchmark/siamese-densenet/freeze-ep-14-acc0.7972.hdf5\n",
      "307/307 [==============================] - 155s 504ms/step - loss: 0.4633 - acc: 0.7972\n",
      "Epoch 15/50\n",
      "307/307 [==============================] - ETA: 0s - loss: 0.4529 - acc: 0.7987\n",
      "Epoch 00015: acc improved from 0.79723 to 0.79866, saving model to benchmark/siamese-densenet/freeze-ep-15-acc0.7987.hdf5\n",
      "307/307 [==============================] - 154s 501ms/step - loss: 0.4529 - acc: 0.7987\n",
      "Epoch 16/50\n",
      "307/307 [==============================] - ETA: 0s - loss: 0.4539 - acc: 0.7952\n",
      "Epoch 00016: acc did not improve from 0.79866\n",
      "307/307 [==============================] - 153s 499ms/step - loss: 0.4539 - acc: 0.7952\n",
      "Epoch 17/50\n",
      "307/307 [==============================] - ETA: 0s - loss: 0.4453 - acc: 0.8015\n",
      "Epoch 00017: acc improved from 0.79866 to 0.80151, saving model to benchmark/siamese-densenet/freeze-ep-17-acc0.8015.hdf5\n",
      "307/307 [==============================] - 155s 503ms/step - loss: 0.4453 - acc: 0.8015\n",
      "Epoch 18/50\n",
      "307/307 [==============================] - ETA: 0s - loss: 0.4509 - acc: 0.7942\n",
      "Epoch 00018: acc did not improve from 0.80151\n",
      "307/307 [==============================] - 154s 502ms/step - loss: 0.4509 - acc: 0.7942\n",
      "Epoch 19/50\n",
      "307/307 [==============================] - ETA: 0s - loss: 0.4439 - acc: 0.7995\n",
      "Epoch 00019: acc did not improve from 0.80151\n",
      "307/307 [==============================] - 153s 499ms/step - loss: 0.4439 - acc: 0.7995\n",
      "Epoch 20/50\n",
      "307/307 [==============================] - ETA: 0s - loss: 0.4435 - acc: 0.8011\n",
      "Epoch 00020: acc did not improve from 0.80151\n",
      "307/307 [==============================] - 152s 496ms/step - loss: 0.4435 - acc: 0.8011\n",
      "Epoch 21/50\n",
      "307/307 [==============================] - ETA: 0s - loss: 0.4352 - acc: 0.8017\n",
      "Epoch 00021: acc improved from 0.80151 to 0.80171, saving model to benchmark/siamese-densenet/freeze-ep-21-acc0.8017.hdf5\n",
      "307/307 [==============================] - 153s 498ms/step - loss: 0.4352 - acc: 0.8017\n",
      "Epoch 22/50\n",
      "307/307 [==============================] - ETA: 0s - loss: 0.4422 - acc: 0.7987\n",
      "Epoch 00022: acc did not improve from 0.80171\n",
      "307/307 [==============================] - 153s 498ms/step - loss: 0.4422 - acc: 0.7987\n",
      "Epoch 23/50\n",
      "307/307 [==============================] - ETA: 0s - loss: 0.4312 - acc: 0.8023\n",
      "Epoch 00023: acc improved from 0.80171 to 0.80232, saving model to benchmark/siamese-densenet/freeze-ep-23-acc0.8023.hdf5\n",
      "307/307 [==============================] - 154s 501ms/step - loss: 0.4312 - acc: 0.8023\n",
      "Epoch 24/50\n",
      "307/307 [==============================] - ETA: 0s - loss: 0.4352 - acc: 0.7989\n",
      "Epoch 00024: acc did not improve from 0.80232\n",
      "307/307 [==============================] - 155s 504ms/step - loss: 0.4352 - acc: 0.7989\n",
      "Epoch 25/50\n",
      "307/307 [==============================] - ETA: 0s - loss: 0.4342 - acc: 0.8017\n",
      "Epoch 00025: acc did not improve from 0.80232\n",
      "307/307 [==============================] - 154s 502ms/step - loss: 0.4342 - acc: 0.8017\n",
      "Epoch 26/50\n",
      "307/307 [==============================] - ETA: 0s - loss: 0.4303 - acc: 0.7978\n",
      "Epoch 00026: acc did not improve from 0.80232\n",
      "307/307 [==============================] - 154s 502ms/step - loss: 0.4303 - acc: 0.7978\n",
      "Epoch 27/50\n",
      "307/307 [==============================] - ETA: 0s - loss: 0.4323 - acc: 0.8042\n",
      "Epoch 00027: acc improved from 0.80232 to 0.80415, saving model to benchmark/siamese-densenet/freeze-ep-27-acc0.8042.hdf5\n",
      "307/307 [==============================] - 154s 503ms/step - loss: 0.4323 - acc: 0.8042\n",
      "Epoch 28/50\n",
      "307/307 [==============================] - ETA: 0s - loss: 0.4214 - acc: 0.8029\n",
      "Epoch 00028: acc did not improve from 0.80415\n",
      "307/307 [==============================] - 154s 500ms/step - loss: 0.4214 - acc: 0.8029\n",
      "Epoch 29/50\n",
      "307/307 [==============================] - ETA: 0s - loss: 0.4238 - acc: 0.8068\n",
      "Epoch 00029: acc improved from 0.80415 to 0.80680, saving model to benchmark/siamese-densenet/freeze-ep-29-acc0.8068.hdf5\n",
      "307/307 [==============================] - 156s 507ms/step - loss: 0.4238 - acc: 0.8068\n",
      "Epoch 30/50\n",
      "307/307 [==============================] - ETA: 0s - loss: 0.4185 - acc: 0.8074\n",
      "Epoch 00030: acc improved from 0.80680 to 0.80741, saving model to benchmark/siamese-densenet/freeze-ep-30-acc0.8074.hdf5\n",
      "307/307 [==============================] - 154s 501ms/step - loss: 0.4185 - acc: 0.8074\n",
      "Epoch 31/50\n",
      "307/307 [==============================] - ETA: 0s - loss: 0.4221 - acc: 0.8037\n",
      "Epoch 00031: acc did not improve from 0.80741\n",
      "307/307 [==============================] - 153s 499ms/step - loss: 0.4221 - acc: 0.8037\n",
      "Epoch 32/50\n",
      "307/307 [==============================] - ETA: 0s - loss: 0.4238 - acc: 0.8080\n",
      "Epoch 00032: acc improved from 0.80741 to 0.80802, saving model to benchmark/siamese-densenet/freeze-ep-32-acc0.8080.hdf5\n",
      "307/307 [==============================] - 153s 500ms/step - loss: 0.4238 - acc: 0.8080\n",
      "Epoch 33/50\n",
      "307/307 [==============================] - ETA: 0s - loss: 0.4177 - acc: 0.8162\n",
      "Epoch 00033: acc improved from 0.80802 to 0.81616, saving model to benchmark/siamese-densenet/freeze-ep-33-acc0.8162.hdf5\n",
      "307/307 [==============================] - 154s 502ms/step - loss: 0.4177 - acc: 0.8162\n",
      "Epoch 34/50\n",
      "307/307 [==============================] - ETA: 0s - loss: 0.4242 - acc: 0.8135\n",
      "Epoch 00034: acc did not improve from 0.81616\n",
      "307/307 [==============================] - 153s 498ms/step - loss: 0.4242 - acc: 0.8135\n",
      "Epoch 35/50\n",
      "307/307 [==============================] - ETA: 0s - loss: 0.4179 - acc: 0.8080\n",
      "Epoch 00035: acc did not improve from 0.81616\n",
      "307/307 [==============================] - 155s 506ms/step - loss: 0.4179 - acc: 0.8080\n",
      "Epoch 36/50\n",
      "307/307 [==============================] - ETA: 0s - loss: 0.4168 - acc: 0.8090\n",
      "Epoch 00036: acc did not improve from 0.81616\n",
      "307/307 [==============================] - 154s 501ms/step - loss: 0.4168 - acc: 0.8090\n",
      "Epoch 37/50\n",
      "154/307 [==============>...............] - ETA: 1:15 - loss: 0.4085 - acc: 0.8080"
     ]
    },
    {
     "ename": "KeyboardInterrupt",
     "evalue": "",
     "output_type": "error",
     "traceback": [
      "\u001b[0;31m\u001b[0m",
      "\u001b[0;31mKeyboardInterrupt\u001b[0mTraceback (most recent call last)",
      "\u001b[0;32m<ipython-input-20-de1d87504fec>\u001b[0m in \u001b[0;36m<module>\u001b[0;34m\u001b[0m\n\u001b[1;32m     17\u001b[0m                         \u001b[0mverbose\u001b[0m\u001b[0;34m=\u001b[0m\u001b[0;36m1\u001b[0m\u001b[0;34m,\u001b[0m\u001b[0;34m\u001b[0m\u001b[0;34m\u001b[0m\u001b[0m\n\u001b[1;32m     18\u001b[0m                         \u001b[0msave_best_only\u001b[0m\u001b[0;34m=\u001b[0m\u001b[0;32mTrue\u001b[0m\u001b[0;34m,\u001b[0m\u001b[0;34m\u001b[0m\u001b[0;34m\u001b[0m\u001b[0m\n\u001b[0;32m---> 19\u001b[0;31m                         mode='max')\n\u001b[0m\u001b[1;32m     20\u001b[0m           ]\n\u001b[1;32m     21\u001b[0m )\n",
      "\u001b[0;32m/usr/local/lib/python3.6/dist-packages/tensorflow/python/keras/engine/training.py\u001b[0m in \u001b[0;36m_method_wrapper\u001b[0;34m(self, *args, **kwargs)\u001b[0m\n\u001b[1;32m     64\u001b[0m   \u001b[0;32mdef\u001b[0m \u001b[0m_method_wrapper\u001b[0m\u001b[0;34m(\u001b[0m\u001b[0mself\u001b[0m\u001b[0;34m,\u001b[0m \u001b[0;34m*\u001b[0m\u001b[0margs\u001b[0m\u001b[0;34m,\u001b[0m \u001b[0;34m**\u001b[0m\u001b[0mkwargs\u001b[0m\u001b[0;34m)\u001b[0m\u001b[0;34m:\u001b[0m\u001b[0;34m\u001b[0m\u001b[0;34m\u001b[0m\u001b[0m\n\u001b[1;32m     65\u001b[0m     \u001b[0;32mif\u001b[0m \u001b[0;32mnot\u001b[0m \u001b[0mself\u001b[0m\u001b[0;34m.\u001b[0m\u001b[0m_in_multi_worker_mode\u001b[0m\u001b[0;34m(\u001b[0m\u001b[0;34m)\u001b[0m\u001b[0;34m:\u001b[0m  \u001b[0;31m# pylint: disable=protected-access\u001b[0m\u001b[0;34m\u001b[0m\u001b[0;34m\u001b[0m\u001b[0m\n\u001b[0;32m---> 66\u001b[0;31m       \u001b[0;32mreturn\u001b[0m \u001b[0mmethod\u001b[0m\u001b[0;34m(\u001b[0m\u001b[0mself\u001b[0m\u001b[0;34m,\u001b[0m \u001b[0;34m*\u001b[0m\u001b[0margs\u001b[0m\u001b[0;34m,\u001b[0m \u001b[0;34m**\u001b[0m\u001b[0mkwargs\u001b[0m\u001b[0;34m)\u001b[0m\u001b[0;34m\u001b[0m\u001b[0;34m\u001b[0m\u001b[0m\n\u001b[0m\u001b[1;32m     67\u001b[0m \u001b[0;34m\u001b[0m\u001b[0m\n\u001b[1;32m     68\u001b[0m     \u001b[0;31m# Running inside `run_distribute_coordinator` already.\u001b[0m\u001b[0;34m\u001b[0m\u001b[0;34m\u001b[0m\u001b[0;34m\u001b[0m\u001b[0m\n",
      "\u001b[0;32m/usr/local/lib/python3.6/dist-packages/tensorflow/python/keras/engine/training.py\u001b[0m in \u001b[0;36mfit\u001b[0;34m(self, x, y, batch_size, epochs, verbose, callbacks, validation_split, validation_data, shuffle, class_weight, sample_weight, initial_epoch, steps_per_epoch, validation_steps, validation_batch_size, validation_freq, max_queue_size, workers, use_multiprocessing)\u001b[0m\n\u001b[1;32m    846\u001b[0m                 batch_size=batch_size):\n\u001b[1;32m    847\u001b[0m               \u001b[0mcallbacks\u001b[0m\u001b[0;34m.\u001b[0m\u001b[0mon_train_batch_begin\u001b[0m\u001b[0;34m(\u001b[0m\u001b[0mstep\u001b[0m\u001b[0;34m)\u001b[0m\u001b[0;34m\u001b[0m\u001b[0;34m\u001b[0m\u001b[0m\n\u001b[0;32m--> 848\u001b[0;31m               \u001b[0mtmp_logs\u001b[0m \u001b[0;34m=\u001b[0m \u001b[0mtrain_function\u001b[0m\u001b[0;34m(\u001b[0m\u001b[0miterator\u001b[0m\u001b[0;34m)\u001b[0m\u001b[0;34m\u001b[0m\u001b[0;34m\u001b[0m\u001b[0m\n\u001b[0m\u001b[1;32m    849\u001b[0m               \u001b[0;31m# Catch OutOfRangeError for Datasets of unknown size.\u001b[0m\u001b[0;34m\u001b[0m\u001b[0;34m\u001b[0m\u001b[0;34m\u001b[0m\u001b[0m\n\u001b[1;32m    850\u001b[0m               \u001b[0;31m# This blocks until the batch has finished executing.\u001b[0m\u001b[0;34m\u001b[0m\u001b[0;34m\u001b[0m\u001b[0;34m\u001b[0m\u001b[0m\n",
      "\u001b[0;32m/usr/local/lib/python3.6/dist-packages/tensorflow/python/eager/def_function.py\u001b[0m in \u001b[0;36m__call__\u001b[0;34m(self, *args, **kwds)\u001b[0m\n\u001b[1;32m    578\u001b[0m         \u001b[0mxla_context\u001b[0m\u001b[0;34m.\u001b[0m\u001b[0mExit\u001b[0m\u001b[0;34m(\u001b[0m\u001b[0;34m)\u001b[0m\u001b[0;34m\u001b[0m\u001b[0;34m\u001b[0m\u001b[0m\n\u001b[1;32m    579\u001b[0m     \u001b[0;32melse\u001b[0m\u001b[0;34m:\u001b[0m\u001b[0;34m\u001b[0m\u001b[0;34m\u001b[0m\u001b[0m\n\u001b[0;32m--> 580\u001b[0;31m       \u001b[0mresult\u001b[0m \u001b[0;34m=\u001b[0m \u001b[0mself\u001b[0m\u001b[0;34m.\u001b[0m\u001b[0m_call\u001b[0m\u001b[0;34m(\u001b[0m\u001b[0;34m*\u001b[0m\u001b[0margs\u001b[0m\u001b[0;34m,\u001b[0m \u001b[0;34m**\u001b[0m\u001b[0mkwds\u001b[0m\u001b[0;34m)\u001b[0m\u001b[0;34m\u001b[0m\u001b[0;34m\u001b[0m\u001b[0m\n\u001b[0m\u001b[1;32m    581\u001b[0m \u001b[0;34m\u001b[0m\u001b[0m\n\u001b[1;32m    582\u001b[0m     \u001b[0;32mif\u001b[0m \u001b[0mtracing_count\u001b[0m \u001b[0;34m==\u001b[0m \u001b[0mself\u001b[0m\u001b[0;34m.\u001b[0m\u001b[0m_get_tracing_count\u001b[0m\u001b[0;34m(\u001b[0m\u001b[0;34m)\u001b[0m\u001b[0;34m:\u001b[0m\u001b[0;34m\u001b[0m\u001b[0;34m\u001b[0m\u001b[0m\n",
      "\u001b[0;32m/usr/local/lib/python3.6/dist-packages/tensorflow/python/eager/def_function.py\u001b[0m in \u001b[0;36m_call\u001b[0;34m(self, *args, **kwds)\u001b[0m\n\u001b[1;32m    609\u001b[0m       \u001b[0;31m# In this case we have created variables on the first call, so we run the\u001b[0m\u001b[0;34m\u001b[0m\u001b[0;34m\u001b[0m\u001b[0;34m\u001b[0m\u001b[0m\n\u001b[1;32m    610\u001b[0m       \u001b[0;31m# defunned version which is guaranteed to never create variables.\u001b[0m\u001b[0;34m\u001b[0m\u001b[0;34m\u001b[0m\u001b[0;34m\u001b[0m\u001b[0m\n\u001b[0;32m--> 611\u001b[0;31m       \u001b[0;32mreturn\u001b[0m \u001b[0mself\u001b[0m\u001b[0;34m.\u001b[0m\u001b[0m_stateless_fn\u001b[0m\u001b[0;34m(\u001b[0m\u001b[0;34m*\u001b[0m\u001b[0margs\u001b[0m\u001b[0;34m,\u001b[0m \u001b[0;34m**\u001b[0m\u001b[0mkwds\u001b[0m\u001b[0;34m)\u001b[0m  \u001b[0;31m# pylint: disable=not-callable\u001b[0m\u001b[0;34m\u001b[0m\u001b[0;34m\u001b[0m\u001b[0m\n\u001b[0m\u001b[1;32m    612\u001b[0m     \u001b[0;32melif\u001b[0m \u001b[0mself\u001b[0m\u001b[0;34m.\u001b[0m\u001b[0m_stateful_fn\u001b[0m \u001b[0;32mis\u001b[0m \u001b[0;32mnot\u001b[0m \u001b[0;32mNone\u001b[0m\u001b[0;34m:\u001b[0m\u001b[0;34m\u001b[0m\u001b[0;34m\u001b[0m\u001b[0m\n\u001b[1;32m    613\u001b[0m       \u001b[0;31m# Release the lock early so that multiple threads can perform the call\u001b[0m\u001b[0;34m\u001b[0m\u001b[0;34m\u001b[0m\u001b[0;34m\u001b[0m\u001b[0m\n",
      "\u001b[0;32m/usr/local/lib/python3.6/dist-packages/tensorflow/python/eager/function.py\u001b[0m in \u001b[0;36m__call__\u001b[0;34m(self, *args, **kwargs)\u001b[0m\n\u001b[1;32m   2418\u001b[0m     \u001b[0;32mwith\u001b[0m \u001b[0mself\u001b[0m\u001b[0;34m.\u001b[0m\u001b[0m_lock\u001b[0m\u001b[0;34m:\u001b[0m\u001b[0;34m\u001b[0m\u001b[0;34m\u001b[0m\u001b[0m\n\u001b[1;32m   2419\u001b[0m       \u001b[0mgraph_function\u001b[0m\u001b[0;34m,\u001b[0m \u001b[0margs\u001b[0m\u001b[0;34m,\u001b[0m \u001b[0mkwargs\u001b[0m \u001b[0;34m=\u001b[0m \u001b[0mself\u001b[0m\u001b[0;34m.\u001b[0m\u001b[0m_maybe_define_function\u001b[0m\u001b[0;34m(\u001b[0m\u001b[0margs\u001b[0m\u001b[0;34m,\u001b[0m \u001b[0mkwargs\u001b[0m\u001b[0;34m)\u001b[0m\u001b[0;34m\u001b[0m\u001b[0;34m\u001b[0m\u001b[0m\n\u001b[0;32m-> 2420\u001b[0;31m     \u001b[0;32mreturn\u001b[0m \u001b[0mgraph_function\u001b[0m\u001b[0;34m.\u001b[0m\u001b[0m_filtered_call\u001b[0m\u001b[0;34m(\u001b[0m\u001b[0margs\u001b[0m\u001b[0;34m,\u001b[0m \u001b[0mkwargs\u001b[0m\u001b[0;34m)\u001b[0m  \u001b[0;31m# pylint: disable=protected-access\u001b[0m\u001b[0;34m\u001b[0m\u001b[0;34m\u001b[0m\u001b[0m\n\u001b[0m\u001b[1;32m   2421\u001b[0m \u001b[0;34m\u001b[0m\u001b[0m\n\u001b[1;32m   2422\u001b[0m   \u001b[0;34m@\u001b[0m\u001b[0mproperty\u001b[0m\u001b[0;34m\u001b[0m\u001b[0;34m\u001b[0m\u001b[0m\n",
      "\u001b[0;32m/usr/local/lib/python3.6/dist-packages/tensorflow/python/eager/function.py\u001b[0m in \u001b[0;36m_filtered_call\u001b[0;34m(self, args, kwargs)\u001b[0m\n\u001b[1;32m   1663\u001b[0m          if isinstance(t, (ops.Tensor,\n\u001b[1;32m   1664\u001b[0m                            resource_variable_ops.BaseResourceVariable))),\n\u001b[0;32m-> 1665\u001b[0;31m         self.captured_inputs)\n\u001b[0m\u001b[1;32m   1666\u001b[0m \u001b[0;34m\u001b[0m\u001b[0m\n\u001b[1;32m   1667\u001b[0m   \u001b[0;32mdef\u001b[0m \u001b[0m_call_flat\u001b[0m\u001b[0;34m(\u001b[0m\u001b[0mself\u001b[0m\u001b[0;34m,\u001b[0m \u001b[0margs\u001b[0m\u001b[0;34m,\u001b[0m \u001b[0mcaptured_inputs\u001b[0m\u001b[0;34m,\u001b[0m \u001b[0mcancellation_manager\u001b[0m\u001b[0;34m=\u001b[0m\u001b[0;32mNone\u001b[0m\u001b[0;34m)\u001b[0m\u001b[0;34m:\u001b[0m\u001b[0;34m\u001b[0m\u001b[0;34m\u001b[0m\u001b[0m\n",
      "\u001b[0;32m/usr/local/lib/python3.6/dist-packages/tensorflow/python/eager/function.py\u001b[0m in \u001b[0;36m_call_flat\u001b[0;34m(self, args, captured_inputs, cancellation_manager)\u001b[0m\n\u001b[1;32m   1744\u001b[0m       \u001b[0;31m# No tape is watching; skip to running the function.\u001b[0m\u001b[0;34m\u001b[0m\u001b[0;34m\u001b[0m\u001b[0;34m\u001b[0m\u001b[0m\n\u001b[1;32m   1745\u001b[0m       return self._build_call_outputs(self._inference_function.call(\n\u001b[0;32m-> 1746\u001b[0;31m           ctx, args, cancellation_manager=cancellation_manager))\n\u001b[0m\u001b[1;32m   1747\u001b[0m     forward_backward = self._select_forward_and_backward_functions(\n\u001b[1;32m   1748\u001b[0m         \u001b[0margs\u001b[0m\u001b[0;34m,\u001b[0m\u001b[0;34m\u001b[0m\u001b[0;34m\u001b[0m\u001b[0m\n",
      "\u001b[0;32m/usr/local/lib/python3.6/dist-packages/tensorflow/python/eager/function.py\u001b[0m in \u001b[0;36mcall\u001b[0;34m(self, ctx, args, cancellation_manager)\u001b[0m\n\u001b[1;32m    596\u001b[0m               \u001b[0minputs\u001b[0m\u001b[0;34m=\u001b[0m\u001b[0margs\u001b[0m\u001b[0;34m,\u001b[0m\u001b[0;34m\u001b[0m\u001b[0;34m\u001b[0m\u001b[0m\n\u001b[1;32m    597\u001b[0m               \u001b[0mattrs\u001b[0m\u001b[0;34m=\u001b[0m\u001b[0mattrs\u001b[0m\u001b[0;34m,\u001b[0m\u001b[0;34m\u001b[0m\u001b[0;34m\u001b[0m\u001b[0m\n\u001b[0;32m--> 598\u001b[0;31m               ctx=ctx)\n\u001b[0m\u001b[1;32m    599\u001b[0m         \u001b[0;32melse\u001b[0m\u001b[0;34m:\u001b[0m\u001b[0;34m\u001b[0m\u001b[0;34m\u001b[0m\u001b[0m\n\u001b[1;32m    600\u001b[0m           outputs = execute.execute_with_cancellation(\n",
      "\u001b[0;32m/usr/local/lib/python3.6/dist-packages/tensorflow/python/eager/execute.py\u001b[0m in \u001b[0;36mquick_execute\u001b[0;34m(op_name, num_outputs, inputs, attrs, ctx, name)\u001b[0m\n\u001b[1;32m     58\u001b[0m     \u001b[0mctx\u001b[0m\u001b[0;34m.\u001b[0m\u001b[0mensure_initialized\u001b[0m\u001b[0;34m(\u001b[0m\u001b[0;34m)\u001b[0m\u001b[0;34m\u001b[0m\u001b[0;34m\u001b[0m\u001b[0m\n\u001b[1;32m     59\u001b[0m     tensors = pywrap_tfe.TFE_Py_Execute(ctx._handle, device_name, op_name,\n\u001b[0;32m---> 60\u001b[0;31m                                         inputs, attrs, num_outputs)\n\u001b[0m\u001b[1;32m     61\u001b[0m   \u001b[0;32mexcept\u001b[0m \u001b[0mcore\u001b[0m\u001b[0;34m.\u001b[0m\u001b[0m_NotOkStatusException\u001b[0m \u001b[0;32mas\u001b[0m \u001b[0me\u001b[0m\u001b[0;34m:\u001b[0m\u001b[0;34m\u001b[0m\u001b[0;34m\u001b[0m\u001b[0m\n\u001b[1;32m     62\u001b[0m     \u001b[0;32mif\u001b[0m \u001b[0mname\u001b[0m \u001b[0;32mis\u001b[0m \u001b[0;32mnot\u001b[0m \u001b[0;32mNone\u001b[0m\u001b[0;34m:\u001b[0m\u001b[0;34m\u001b[0m\u001b[0;34m\u001b[0m\u001b[0m\n",
      "\u001b[0;31mKeyboardInterrupt\u001b[0m: "
     ]
    }
   ],
   "source": [
    "batch_size = 16\n",
    "df = pd.read_csv('datasets/train.csv')\n",
    "input_dir = Path('datasets/train/train')\n",
    "datagen = DataGenerator(df, input_dir)\n",
    "gen = datagen.create_generator(batch_size=batch_size, positive_ratio=0.5)\n",
    "\n",
    "model_dir = Path('benchmark/siamese-densenet')\n",
    "model_dir.mkdir(exist_ok=True)\n",
    "model.fit(gen,\n",
    "          initial_epoch=9,\n",
    "          epochs=50,\n",
    "          steps_per_epoch=len(df) // (2*batch_size),\n",
    "          callbacks=[\n",
    "              TensorBoard(str(model_dir)),\n",
    "              ModelCheckpoint(str(model_dir / 'freeze-ep-{epoch:02d}-acc{acc:.4f}.hdf5'),\n",
    "                        monitor='acc',\n",
    "                        verbose=1,\n",
    "                        save_best_only=True,\n",
    "                        mode='max')\n",
    "          ]\n",
    ")\n"
   ]
  },
  {
   "cell_type": "markdown",
   "metadata": {},
   "source": [
    "## Further development\n",
    "\n",
    "- Evaluation\n",
    "- Train model with unfreeze CNN\n",
    "- Visualize distribution of feature"
   ]
  },
  {
   "cell_type": "code",
   "execution_count": null,
   "metadata": {},
   "outputs": [],
   "source": []
  }
 ],
 "metadata": {
  "kernelspec": {
   "display_name": "Python 3",
   "language": "python",
   "name": "python3"
  },
  "language_info": {
   "codemirror_mode": {
    "name": "ipython",
    "version": 3
   },
   "file_extension": ".py",
   "mimetype": "text/x-python",
   "name": "python",
   "nbconvert_exporter": "python",
   "pygments_lexer": "ipython3",
   "version": "3.6.9"
  }
 },
 "nbformat": 4,
 "nbformat_minor": 2
}
